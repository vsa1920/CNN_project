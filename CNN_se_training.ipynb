{
  "nbformat": 4,
  "nbformat_minor": 0,
  "metadata": {
    "colab": {
      "name": "CNN_se_training",
      "provenance": [],
      "collapsed_sections": []
    },
    "kernelspec": {
      "name": "python3",
      "display_name": "Python 3"
    },
    "accelerator": "GPU"
  },
  "cells": [
    {
      "cell_type": "code",
      "metadata": {
        "id": "tilHQ1FgQaBM"
      },
      "source": [
        "from tensorflow.keras.preprocessing.image import ImageDataGenerator\n",
        "import tensorflow as tf\n",
        "import os\n",
        "import pandas as pd\n",
        "from tensorflow import keras\n",
        "import numpy as np"
      ],
      "execution_count": 1,
      "outputs": []
    },
    {
      "cell_type": "code",
      "metadata": {
        "id": "OB10qYk1hYoS",
        "colab": {
          "base_uri": "https://localhost:8080/"
        },
        "outputId": "c41fa306-dcf5-40f7-b751-092660e3d1b7"
      },
      "source": [
        "from google.colab import drive\n",
        "drive.mount('/content/drive')"
      ],
      "execution_count": 2,
      "outputs": [
        {
          "output_type": "stream",
          "text": [
            "Mounted at /content/drive\n"
          ],
          "name": "stdout"
        }
      ]
    },
    {
      "cell_type": "code",
      "metadata": {
        "id": "NIcOuVYwOGBp"
      },
      "source": [
        "file_path = \"drive/MyDrive/ED_CNN/GTSRB_Final_Training_Images.zip\"\n",
        "directory_to_extract_to = \"/content\""
      ],
      "execution_count": 3,
      "outputs": []
    },
    {
      "cell_type": "code",
      "metadata": {
        "id": "0KXb4rhrOUnZ"
      },
      "source": [
        "import zipfile\n",
        "with zipfile.ZipFile(file_path, 'r') as zip_ref:\n",
        "    zip_ref.extractall(directory_to_extract_to)"
      ],
      "execution_count": 4,
      "outputs": []
    },
    {
      "cell_type": "code",
      "metadata": {
        "colab": {
          "base_uri": "https://localhost:8080/"
        },
        "id": "XMQHS9Vdx3f-",
        "outputId": "36fd6a16-1e5d-419f-ed15-ef55229c124e"
      },
      "source": [
        "main_directory = \"/content/GTSRB/Final_Training/Images\"\n",
        "train_data = []\n",
        "train_labels = []\n",
        "val_data = []\n",
        "val_labels = []\n",
        "test_data = []\n",
        "test_labels = []\n",
        "for i, folder in enumerate(os.listdir(main_directory)):\n",
        "  df = pd.read_csv(main_directory + '/' + folder + \"/\" + \"GT-\" + folder +\".csv\")\n",
        "  #print(len(df), len(os.listdir(main_directory + '/' + folder)))\n",
        "  train_lim = int(0.6 * len(df))\n",
        "  val_lim = int(0.8 * len(df))\n",
        "  for idx, row in df.iterrows():\n",
        "    row_values = str(row.iloc[0]).split(';')\n",
        "    if idx < train_lim:\n",
        "      train_data.append(main_directory + '/' + folder + '/' + row_values[0])\n",
        "      train_labels.append(folder)\n",
        "    elif idx < val_lim:\n",
        "      val_data.append(main_directory + '/' + folder + '/' + row_values[0])\n",
        "      val_labels.append(folder)\n",
        "    else:\n",
        "      test_data.append(main_directory + '/' + folder + '/' + row_values[0])\n",
        "      test_labels.append(folder)\n",
        "print(len(train_data), len(val_data), len(test_data))"
      ],
      "execution_count": 5,
      "outputs": [
        {
          "output_type": "stream",
          "text": [
            "23525 7842 7842\n"
          ],
          "name": "stdout"
        }
      ]
    },
    {
      "cell_type": "code",
      "metadata": {
        "id": "s90y8jS08VGA",
        "colab": {
          "base_uri": "https://localhost:8080/"
        },
        "outputId": "0f3c65d3-8a4f-43ad-a876-68677b4ab30e"
      },
      "source": [
        "training = pd.DataFrame({\"Filepath\": train_data, \"Target\": train_labels})\n",
        "validation = pd.DataFrame({\"Filepath\": val_data, \"Target\": val_labels})\n",
        "testing = pd.DataFrame({\"Filepath\": test_data, \"Target\": test_labels})"
      ],
      "execution_count": 21,
      "outputs": [
        {
          "output_type": "execute_result",
          "data": {
            "text/plain": [
              "7842"
            ]
          },
          "metadata": {
            "tags": []
          },
          "execution_count": 21
        }
      ]
    },
    {
      "cell_type": "code",
      "metadata": {
        "id": "0jvQW8BsOYJN"
      },
      "source": [
        "main_directory = \"/content/GTSRB/Final_Training/Images\"\n",
        "datagen = ImageDataGenerator(rescale=1./255,\n",
        "        shear_range=0.2,\n",
        "        zoom_range=0.2,\n",
        "        horizontal_flip=True,\n",
        "        rotation_range=30, \n",
        "        width_shift_range=0.1,\n",
        "        height_shift_range=0.1,\n",
        "        samplewise_center = True,\n",
        "        )\n",
        "datagen1 = ImageDataGenerator(rescale=1./255, samplewise_center=True)"
      ],
      "execution_count": 7,
      "outputs": []
    },
    {
      "cell_type": "code",
      "metadata": {
        "colab": {
          "base_uri": "https://localhost:8080/"
        },
        "id": "j23V-fha94jj",
        "outputId": "055c704b-7fc6-4e64-b069-4370d6644709"
      },
      "source": [
        "train_img = datagen.flow_from_dataframe(training, x_col=\"Filepath\", y_col=\"Target\", validate_filenames=False, target_size=[30, 30])\n",
        "val_img = datagen1.flow_from_dataframe(validation, x_col=\"Filepath\", y_col=\"Target\", validate_filenames=False, target_size=[30, 30])\n",
        "test_img = datagen1.flow_from_dataframe(testing, x_col=\"Filepath\", y_col=\"Target\", validate_filenames=False, target_size=[30, 30])\n",
        "test_unibatch = datagen1.flow_from_dataframe(testing, x_col=\"Filepath\", y_col=\"Target\", validate_filenames=False, target_size=[30, 30], batch_size=len(testing))"
      ],
      "execution_count": 38,
      "outputs": [
        {
          "output_type": "stream",
          "text": [
            "Found 23525 non-validated image filenames belonging to 43 classes.\n",
            "Found 7842 non-validated image filenames belonging to 43 classes.\n",
            "Found 7842 non-validated image filenames belonging to 43 classes.\n",
            "Found 7842 non-validated image filenames belonging to 43 classes.\n"
          ],
          "name": "stdout"
        }
      ]
    },
    {
      "cell_type": "code",
      "metadata": {
        "id": "gzZVvAjxT1ds"
      },
      "source": [
        "def cnn_net(input_shape, num_classes):\n",
        "  \"\"\"\n",
        "  CNN Model for identifying traffic signs\n",
        "  \"\"\"\n",
        "  X_input = keras.layers.Input(shape=input_shape)\n",
        "  X = keras.layers.Conv2D(filters=32, kernel_size =5, padding='same')(X_input)\n",
        "  X = keras.layers.Dropout(0.2)(X)\n",
        "  X = keras.layers.BatchNormalization()(X)\n",
        "  X = keras.layers.Activation('relu')(X)\n",
        "  \n",
        "  X = keras.layers.MaxPool2D(pool_size=(3, 3), strides=[2, 2])(X)\n",
        "\n",
        "  X = keras.layers.Conv2D(filters=64, kernel_size =3, padding='same')(X)\n",
        "  X = keras.layers.Dropout(0.2)(X)\n",
        "  X = keras.layers.BatchNormalization()(X)\n",
        "  X = keras.layers.Activation('relu')(X)\n",
        "\n",
        "  X = keras.layers.MaxPool2D(pool_size=[3, 3], strides=[2, 2])(X)\n",
        "\n",
        "  X = keras.layers.Flatten()(X)\n",
        "  X = keras.layers.Dense(128, activation='relu')(X)\n",
        "  X = keras.layers.Dropout(0.1)(X)\n",
        "  X = keras.layers.Dense(43, activation='softmax')(X)\n",
        "\n",
        "  model = keras.models.Model(inputs = X_input, outputs= X, name=\"CNN_model\")\n",
        "  return model"
      ],
      "execution_count": 25,
      "outputs": []
    },
    {
      "cell_type": "code",
      "metadata": {
        "colab": {
          "base_uri": "https://localhost:8080/"
        },
        "id": "HIonKmvLcIje",
        "outputId": "b8d1961d-6b71-4011-eb9f-fb327c3f1e65"
      },
      "source": [
        "cnn_model = cnn_net(input_shape=(30, 30, 3), num_classes=43)\n",
        "cnn_model.summary()"
      ],
      "execution_count": 26,
      "outputs": [
        {
          "output_type": "stream",
          "text": [
            "Model: \"CNN_model\"\n",
            "_________________________________________________________________\n",
            "Layer (type)                 Output Shape              Param #   \n",
            "=================================================================\n",
            "input_1 (InputLayer)         [(None, 30, 30, 3)]       0         \n",
            "_________________________________________________________________\n",
            "conv2d (Conv2D)              (None, 30, 30, 32)        2432      \n",
            "_________________________________________________________________\n",
            "dropout (Dropout)            (None, 30, 30, 32)        0         \n",
            "_________________________________________________________________\n",
            "batch_normalization (BatchNo (None, 30, 30, 32)        128       \n",
            "_________________________________________________________________\n",
            "activation (Activation)      (None, 30, 30, 32)        0         \n",
            "_________________________________________________________________\n",
            "max_pooling2d (MaxPooling2D) (None, 14, 14, 32)        0         \n",
            "_________________________________________________________________\n",
            "conv2d_1 (Conv2D)            (None, 14, 14, 64)        18496     \n",
            "_________________________________________________________________\n",
            "dropout_1 (Dropout)          (None, 14, 14, 64)        0         \n",
            "_________________________________________________________________\n",
            "batch_normalization_1 (Batch (None, 14, 14, 64)        256       \n",
            "_________________________________________________________________\n",
            "activation_1 (Activation)    (None, 14, 14, 64)        0         \n",
            "_________________________________________________________________\n",
            "max_pooling2d_1 (MaxPooling2 (None, 6, 6, 64)          0         \n",
            "_________________________________________________________________\n",
            "flatten (Flatten)            (None, 2304)              0         \n",
            "_________________________________________________________________\n",
            "dense (Dense)                (None, 128)               295040    \n",
            "_________________________________________________________________\n",
            "dropout_2 (Dropout)          (None, 128)               0         \n",
            "_________________________________________________________________\n",
            "dense_1 (Dense)              (None, 43)                5547      \n",
            "=================================================================\n",
            "Total params: 321,899\n",
            "Trainable params: 321,707\n",
            "Non-trainable params: 192\n",
            "_________________________________________________________________\n"
          ],
          "name": "stdout"
        }
      ]
    },
    {
      "cell_type": "code",
      "metadata": {
        "id": "8mx5YAGneU9B"
      },
      "source": [
        "opt = keras.optimizers.Adam(learning_rate=0.001)\n",
        "cnn_model.compile(optimizer=opt, loss='categorical_crossentropy', metrics=['categorical_accuracy'])\n",
        "early_stopping = keras.callbacks.EarlyStopping(monitor=\"val_categorical_accuracy\", patience=5)\n",
        "checkpoint_path_cnn = \"/content/drive/MyDrive/Models/cnn\"\n",
        "model_checkpoint = keras.callbacks.ModelCheckpoint(checkpoint_path_cnn, monitor=\"val_categorical_accuracy\", save_best_only=True)"
      ],
      "execution_count": 27,
      "outputs": []
    },
    {
      "cell_type": "code",
      "metadata": {
        "colab": {
          "base_uri": "https://localhost:8080/"
        },
        "id": "FOhiXpZ4j-hM",
        "outputId": "8a56c317-2a1f-4230-ddc0-0ef438b8ba27"
      },
      "source": [
        "# Training\n",
        "#history_cnn = cnn_model.fit(train_img, epochs=50, validation_data=val_img, callbacks=[early_stopping, model_checkpoint])\n",
        "history_cnn = cnn_model.fit(train_img, epochs=20, validation_data=val_img)"
      ],
      "execution_count": 15,
      "outputs": [
        {
          "output_type": "stream",
          "text": [
            "Epoch 1/20\n",
            "736/736 [==============================] - 53s 28ms/step - loss: 2.9160 - categorical_accuracy: 0.2300 - val_loss: 1.6082 - val_categorical_accuracy: 0.5173\n",
            "Epoch 2/20\n",
            "736/736 [==============================] - 20s 27ms/step - loss: 1.5354 - categorical_accuracy: 0.5110 - val_loss: 1.3537 - val_categorical_accuracy: 0.5601\n",
            "Epoch 3/20\n",
            "736/736 [==============================] - 20s 27ms/step - loss: 1.2311 - categorical_accuracy: 0.5912 - val_loss: 1.1664 - val_categorical_accuracy: 0.6257\n",
            "Epoch 4/20\n",
            "736/736 [==============================] - 20s 27ms/step - loss: 1.0971 - categorical_accuracy: 0.6294 - val_loss: 1.0606 - val_categorical_accuracy: 0.6543\n",
            "Epoch 5/20\n",
            "736/736 [==============================] - 19s 26ms/step - loss: 1.0335 - categorical_accuracy: 0.6481 - val_loss: 0.9063 - val_categorical_accuracy: 0.7035\n",
            "Epoch 6/20\n",
            "736/736 [==============================] - 19s 26ms/step - loss: 0.9283 - categorical_accuracy: 0.6857 - val_loss: 0.8961 - val_categorical_accuracy: 0.7104\n",
            "Epoch 7/20\n",
            "736/736 [==============================] - 19s 26ms/step - loss: 0.8868 - categorical_accuracy: 0.6911 - val_loss: 0.9671 - val_categorical_accuracy: 0.7008\n",
            "Epoch 8/20\n",
            "736/736 [==============================] - 19s 26ms/step - loss: 0.8306 - categorical_accuracy: 0.7095 - val_loss: 0.7425 - val_categorical_accuracy: 0.7649\n",
            "Epoch 9/20\n",
            "736/736 [==============================] - 19s 26ms/step - loss: 0.7849 - categorical_accuracy: 0.7308 - val_loss: 0.7973 - val_categorical_accuracy: 0.7307\n",
            "Epoch 10/20\n",
            "736/736 [==============================] - 19s 26ms/step - loss: 0.7604 - categorical_accuracy: 0.7417 - val_loss: 0.6789 - val_categorical_accuracy: 0.7777\n",
            "Epoch 11/20\n",
            "736/736 [==============================] - 19s 26ms/step - loss: 0.7045 - categorical_accuracy: 0.7580 - val_loss: 0.7179 - val_categorical_accuracy: 0.7585\n",
            "Epoch 12/20\n",
            "736/736 [==============================] - 20s 27ms/step - loss: 0.6970 - categorical_accuracy: 0.7601 - val_loss: 0.7207 - val_categorical_accuracy: 0.7696\n",
            "Epoch 13/20\n",
            "736/736 [==============================] - 19s 26ms/step - loss: 0.6583 - categorical_accuracy: 0.7760 - val_loss: 0.6027 - val_categorical_accuracy: 0.8101\n",
            "Epoch 14/20\n",
            "736/736 [==============================] - 19s 26ms/step - loss: 0.6583 - categorical_accuracy: 0.7723 - val_loss: 0.7017 - val_categorical_accuracy: 0.7855\n",
            "Epoch 15/20\n",
            "736/736 [==============================] - 19s 26ms/step - loss: 0.6119 - categorical_accuracy: 0.7913 - val_loss: 0.6483 - val_categorical_accuracy: 0.8009\n",
            "Epoch 16/20\n",
            "736/736 [==============================] - 19s 26ms/step - loss: 0.6159 - categorical_accuracy: 0.7912 - val_loss: 0.6030 - val_categorical_accuracy: 0.8037\n",
            "Epoch 17/20\n",
            "736/736 [==============================] - 19s 26ms/step - loss: 0.5973 - categorical_accuracy: 0.8016 - val_loss: 0.6109 - val_categorical_accuracy: 0.8104\n",
            "Epoch 18/20\n",
            "736/736 [==============================] - 20s 27ms/step - loss: 0.5711 - categorical_accuracy: 0.8046 - val_loss: 0.5922 - val_categorical_accuracy: 0.8161\n",
            "Epoch 19/20\n",
            "736/736 [==============================] - 19s 26ms/step - loss: 0.5618 - categorical_accuracy: 0.8151 - val_loss: 0.5789 - val_categorical_accuracy: 0.7999\n",
            "Epoch 20/20\n",
            "736/736 [==============================] - 19s 26ms/step - loss: 0.5502 - categorical_accuracy: 0.8130 - val_loss: 0.6780 - val_categorical_accuracy: 0.8097\n"
          ],
          "name": "stdout"
        }
      ]
    },
    {
      "cell_type": "code",
      "metadata": {
        "id": "lvkAOyhlNZn6",
        "colab": {
          "base_uri": "https://localhost:8080/"
        },
        "outputId": "ad7183bc-9ec6-4833-86ba-2b07b30fa6e8"
      },
      "source": [
        "# Load the best CNN\n",
        "loaded_cnn = keras.models.load_model(checkpoint_path_cnn)\n",
        "loaded_cnn.evaluate(test_img)"
      ],
      "execution_count": 44,
      "outputs": [
        {
          "output_type": "stream",
          "text": [
            "246/246 [==============================] - 3s 12ms/step - loss: 0.5222 - categorical_accuracy: 0.8593\n"
          ],
          "name": "stdout"
        },
        {
          "output_type": "execute_result",
          "data": {
            "text/plain": [
              "[0.5222090482711792, 0.8593471050262451]"
            ]
          },
          "metadata": {
            "tags": []
          },
          "execution_count": 44
        }
      ]
    },
    {
      "cell_type": "code",
      "metadata": {
        "colab": {
          "base_uri": "https://localhost:8080/"
        },
        "id": "TbyA6TuPkmcc",
        "outputId": "9b2d09ab-e8dd-4f91-d412-7c58fa0de455"
      },
      "source": [
        "# Test Performance\n",
        "cnn_model.evaluate(test_img)"
      ],
      "execution_count": 16,
      "outputs": [
        {
          "output_type": "stream",
          "text": [
            "246/246 [==============================] - 2s 8ms/step - loss: 0.6487 - categorical_accuracy: 0.8179\n"
          ],
          "name": "stdout"
        },
        {
          "output_type": "execute_result",
          "data": {
            "text/plain": [
              "[0.6487091183662415, 0.8179035782814026]"
            ]
          },
          "metadata": {
            "tags": []
          },
          "execution_count": 16
        }
      ]
    },
    {
      "cell_type": "code",
      "metadata": {
        "colab": {
          "base_uri": "https://localhost:8080/",
          "height": 298
        },
        "id": "oGc2EAJ-fMHM",
        "outputId": "a3c8e33d-6b57-41f1-f63e-fab8fa8a4812"
      },
      "source": [
        "plt.plot(history_cnn.history[\"val_loss\"], label=\"Validation Loss\")\n",
        "plt.plot(history_cnn.history[\"loss\"], label=\"Training Loss\")\n",
        "plt.title(\"CNN - Loss\")\n",
        "plt.legend()"
      ],
      "execution_count": 33,
      "outputs": [
        {
          "output_type": "execute_result",
          "data": {
            "text/plain": [
              "<matplotlib.legend.Legend at 0x7f005855a9d0>"
            ]
          },
          "metadata": {
            "tags": []
          },
          "execution_count": 33
        },
        {
          "output_type": "display_data",
          "data": {
            "image/png": "[encoded data removed]",
            "text/plain": [
              "<Figure size 432x288 with 1 Axes>"
            ]
          },
          "metadata": {
            "tags": [],
            "needs_background": "light"
          }
        }
      ]
    },
    {
      "cell_type": "code",
      "metadata": {
        "colab": {
          "base_uri": "https://localhost:8080/",
          "height": 298
        },
        "id": "dGitf_uiDEUj",
        "outputId": "c54876e7-c82f-4324-913f-9018e0534c2e"
      },
      "source": [
        "plt.plot(history_cnn.history[\"val_categorical_accuracy\"], label=\"Validation Accuracy\")\n",
        "plt.plot(history_cnn.history[\"categorical_accuracy\"], label=\"Training Accuracy\")\n",
        "plt.title(\"CNN - Accuracy\")\n",
        "plt.legend()"
      ],
      "execution_count": 34,
      "outputs": [
        {
          "output_type": "execute_result",
          "data": {
            "text/plain": [
              "<matplotlib.legend.Legend at 0x7f005847e810>"
            ]
          },
          "metadata": {
            "tags": []
          },
          "execution_count": 34
        },
        {
          "output_type": "display_data",
          "data": {
            "image/png": "[encoded data removed]",
            "text/plain": [
              "<Figure size 432x288 with 1 Axes>"
            ]
          },
          "metadata": {
            "tags": [],
            "needs_background": "light"
          }
        }
      ]
    },
    {
      "cell_type": "code",
      "metadata": {
        "id": "TkwCIRXbl-H4"
      },
      "source": [
        "def SE_block(input_block, num_channels, ratio=16):\n",
        "  \"\"\"\n",
        "  Squeeze and Excitation Block\n",
        "  \"\"\"\n",
        "  X = keras.layers.GlobalAveragePooling2D()(input_block)\n",
        "  X = keras.layers.Dense(num_channels//ratio, activation='relu')(X)\n",
        "  X = keras.layers.Dense(num_channels, activation='sigmoid')(X)\n",
        "\n",
        "  P = keras.layers.Multiply()([input_block, X])\n",
        "  return P"
      ],
      "execution_count": 46,
      "outputs": []
    },
    {
      "cell_type": "code",
      "metadata": {
        "id": "P-6PZ7opILvA"
      },
      "source": [
        "def SE_net(input_shape, num_classes):\n",
        "  \"\"\"\n",
        "  CNN with multiple Squeeze and Excitation Blocks\n",
        "  \"\"\"\n",
        "  X_input = keras.layers.Input(shape=input_shape)\n",
        "  X = keras.layers.Conv2D(filters=32, kernel_size =5, padding='same')(X_input)\n",
        "  X = keras.layers.Dropout(0.2)(X)\n",
        "  X = keras.layers.BatchNormalization()(X)\n",
        "  X = keras.layers.Activation('relu')(X)\n",
        "\n",
        "  X = SE_block(X, num_channels=32, ratio=16)\n",
        "\n",
        "  X = keras.layers.MaxPool2D(pool_size=[3, 3], strides=[2, 2])(X)\n",
        "  X = keras.layers.Conv2D(filters=64, kernel_size =3, padding='same')(X)\n",
        "  X = keras.layers.Dropout(0.2)(X)\n",
        "  X = keras.layers.BatchNormalization()(X)\n",
        "  X = keras.layers.Activation('relu')(X)\n",
        "\n",
        "  X = SE_block(X, num_channels=64, ratio=32)\n",
        "\n",
        "  X = keras.layers.MaxPool2D(pool_size=[3, 3], strides=[2, 2])(X)\n",
        "  X = keras.layers.Flatten()(X)\n",
        "  X = keras.layers.Dense(128, activation='relu')(X)\n",
        "  X = keras.layers.Dropout(0.1)(X)\n",
        "  X = keras.layers.Dense(43, activation='softmax')(X)\n",
        "  \n",
        "  model = keras.models.Model(inputs = X_input, outputs= X, name='SE_Net')\n",
        "  return model"
      ],
      "execution_count": 47,
      "outputs": []
    },
    {
      "cell_type": "code",
      "metadata": {
        "colab": {
          "base_uri": "https://localhost:8080/"
        },
        "id": "498tY7fYJrCI",
        "outputId": "3d8e4790-d62c-4ae3-fb51-724914c3bebe"
      },
      "source": [
        "se_net = SE_net(input_shape=(30, 30, 3), num_classes=43)\n",
        "se_net.summary()"
      ],
      "execution_count": 48,
      "outputs": [
        {
          "output_type": "stream",
          "text": [
            "Model: \"SE_Net\"\n",
            "__________________________________________________________________________________________________\n",
            "Layer (type)                    Output Shape         Param #     Connected to                     \n",
            "==================================================================================================\n",
            "input_2 (InputLayer)            [(None, 30, 30, 3)]  0                                            \n",
            "__________________________________________________________________________________________________\n",
            "conv2d_2 (Conv2D)               (None, 30, 30, 32)   2432        input_2[0][0]                    \n",
            "__________________________________________________________________________________________________\n",
            "dropout_3 (Dropout)             (None, 30, 30, 32)   0           conv2d_2[0][0]                   \n",
            "__________________________________________________________________________________________________\n",
            "batch_normalization_2 (BatchNor (None, 30, 30, 32)   128         dropout_3[0][0]                  \n",
            "__________________________________________________________________________________________________\n",
            "activation_2 (Activation)       (None, 30, 30, 32)   0           batch_normalization_2[0][0]      \n",
            "__________________________________________________________________________________________________\n",
            "global_average_pooling2d (Globa (None, 32)           0           activation_2[0][0]               \n",
            "__________________________________________________________________________________________________\n",
            "dense_2 (Dense)                 (None, 2)            66          global_average_pooling2d[0][0]   \n",
            "__________________________________________________________________________________________________\n",
            "dense_3 (Dense)                 (None, 32)           96          dense_2[0][0]                    \n",
            "__________________________________________________________________________________________________\n",
            "multiply (Multiply)             (None, 30, 30, 32)   0           activation_2[0][0]               \n",
            "                                                                 dense_3[0][0]                    \n",
            "__________________________________________________________________________________________________\n",
            "max_pooling2d_2 (MaxPooling2D)  (None, 14, 14, 32)   0           multiply[0][0]                   \n",
            "__________________________________________________________________________________________________\n",
            "conv2d_3 (Conv2D)               (None, 14, 14, 64)   18496       max_pooling2d_2[0][0]            \n",
            "__________________________________________________________________________________________________\n",
            "dropout_4 (Dropout)             (None, 14, 14, 64)   0           conv2d_3[0][0]                   \n",
            "__________________________________________________________________________________________________\n",
            "batch_normalization_3 (BatchNor (None, 14, 14, 64)   256         dropout_4[0][0]                  \n",
            "__________________________________________________________________________________________________\n",
            "activation_3 (Activation)       (None, 14, 14, 64)   0           batch_normalization_3[0][0]      \n",
            "__________________________________________________________________________________________________\n",
            "global_average_pooling2d_1 (Glo (None, 64)           0           activation_3[0][0]               \n",
            "__________________________________________________________________________________________________\n",
            "dense_4 (Dense)                 (None, 2)            130         global_average_pooling2d_1[0][0] \n",
            "__________________________________________________________________________________________________\n",
            "dense_5 (Dense)                 (None, 64)           192         dense_4[0][0]                    \n",
            "__________________________________________________________________________________________________\n",
            "multiply_1 (Multiply)           (None, 14, 14, 64)   0           activation_3[0][0]               \n",
            "                                                                 dense_5[0][0]                    \n",
            "__________________________________________________________________________________________________\n",
            "max_pooling2d_3 (MaxPooling2D)  (None, 6, 6, 64)     0           multiply_1[0][0]                 \n",
            "__________________________________________________________________________________________________\n",
            "flatten_1 (Flatten)             (None, 2304)         0           max_pooling2d_3[0][0]            \n",
            "__________________________________________________________________________________________________\n",
            "dense_6 (Dense)                 (None, 128)          295040      flatten_1[0][0]                  \n",
            "__________________________________________________________________________________________________\n",
            "dropout_5 (Dropout)             (None, 128)          0           dense_6[0][0]                    \n",
            "__________________________________________________________________________________________________\n",
            "dense_7 (Dense)                 (None, 43)           5547        dropout_5[0][0]                  \n",
            "==================================================================================================\n",
            "Total params: 322,383\n",
            "Trainable params: 322,191\n",
            "Non-trainable params: 192\n",
            "__________________________________________________________________________________________________\n"
          ],
          "name": "stdout"
        }
      ]
    },
    {
      "cell_type": "code",
      "metadata": {
        "id": "XkXAxyJ_J8Wa"
      },
      "source": [
        "opt1 = keras.optimizers.Adam(learning_rate=0.001)\n",
        "se_net.compile(optimizer=opt1, loss='categorical_crossentropy', metrics=['categorical_accuracy'])\n",
        "checkpoint_path_se_net = \"/content/drive/MyDrive/Models/se_net\"\n",
        "early_stopping_se = keras.callbacks.EarlyStopping(monitor=\"val_categorical_accuracy\", patience=5)\n",
        "model_checkpoint_se = keras.callbacks.ModelCheckpoint(checkpoint_path_se_net, monitor=\"val_categorical_accuracy\", save_best_only=True)"
      ],
      "execution_count": 49,
      "outputs": []
    },
    {
      "cell_type": "code",
      "metadata": {
        "colab": {
          "base_uri": "https://localhost:8080/"
        },
        "id": "9nZyQhUFQDAN",
        "outputId": "10931af1-1847-4417-bb7c-3f6fdcd50fc6"
      },
      "source": [
        "#se_net.fit(train_img, epochs=50, validation_data=val_img, callbacks=[early_stopping_se, model_checkpoint_se])\n",
        "history_se = se_net.fit(train_img, epochs=20, validation_data=val_img)"
      ],
      "execution_count": 28,
      "outputs": [
        {
          "output_type": "stream",
          "text": [
            "Epoch 1/20\n",
            "736/736 [==============================] - 20s 26ms/step - loss: 2.6889 - categorical_accuracy: 0.2662 - val_loss: 1.3336 - val_categorical_accuracy: 0.5933\n",
            "Epoch 2/20\n",
            "736/736 [==============================] - 19s 26ms/step - loss: 1.3518 - categorical_accuracy: 0.5668 - val_loss: 1.0492 - val_categorical_accuracy: 0.6635\n",
            "Epoch 3/20\n",
            "736/736 [==============================] - 19s 26ms/step - loss: 1.0666 - categorical_accuracy: 0.6422 - val_loss: 0.8809 - val_categorical_accuracy: 0.7294\n",
            "Epoch 4/20\n",
            "736/736 [==============================] - 19s 26ms/step - loss: 0.9248 - categorical_accuracy: 0.6907 - val_loss: 0.8610 - val_categorical_accuracy: 0.7161\n",
            "Epoch 5/20\n",
            "736/736 [==============================] - 19s 26ms/step - loss: 0.8180 - categorical_accuracy: 0.7193 - val_loss: 0.8891 - val_categorical_accuracy: 0.7108\n",
            "Epoch 6/20\n",
            "736/736 [==============================] - 19s 26ms/step - loss: 0.7510 - categorical_accuracy: 0.7428 - val_loss: 0.7530 - val_categorical_accuracy: 0.7467\n",
            "Epoch 7/20\n",
            "736/736 [==============================] - 19s 26ms/step - loss: 0.6906 - categorical_accuracy: 0.7653 - val_loss: 0.7166 - val_categorical_accuracy: 0.7552\n",
            "Epoch 8/20\n",
            "736/736 [==============================] - 19s 26ms/step - loss: 0.6353 - categorical_accuracy: 0.7831 - val_loss: 0.6732 - val_categorical_accuracy: 0.7774\n",
            "Epoch 9/20\n",
            "736/736 [==============================] - 19s 26ms/step - loss: 0.6213 - categorical_accuracy: 0.7865 - val_loss: 0.5844 - val_categorical_accuracy: 0.7979\n",
            "Epoch 10/20\n",
            "736/736 [==============================] - 19s 26ms/step - loss: 0.5638 - categorical_accuracy: 0.8066 - val_loss: 0.6326 - val_categorical_accuracy: 0.7964\n",
            "Epoch 11/20\n",
            "736/736 [==============================] - 19s 26ms/step - loss: 0.5412 - categorical_accuracy: 0.8166 - val_loss: 0.5811 - val_categorical_accuracy: 0.8049\n",
            "Epoch 12/20\n",
            "736/736 [==============================] - 19s 26ms/step - loss: 0.5147 - categorical_accuracy: 0.8224 - val_loss: 0.5713 - val_categorical_accuracy: 0.8103\n",
            "Epoch 13/20\n",
            "736/736 [==============================] - 19s 26ms/step - loss: 0.4992 - categorical_accuracy: 0.8297 - val_loss: 0.5588 - val_categorical_accuracy: 0.8176\n",
            "Epoch 14/20\n",
            "736/736 [==============================] - 19s 26ms/step - loss: 0.4631 - categorical_accuracy: 0.8403 - val_loss: 0.6753 - val_categorical_accuracy: 0.7779\n",
            "Epoch 15/20\n",
            "736/736 [==============================] - 19s 26ms/step - loss: 0.4506 - categorical_accuracy: 0.8416 - val_loss: 0.5610 - val_categorical_accuracy: 0.8213\n",
            "Epoch 16/20\n",
            "736/736 [==============================] - 19s 26ms/step - loss: 0.4311 - categorical_accuracy: 0.8527 - val_loss: 0.5036 - val_categorical_accuracy: 0.8307\n",
            "Epoch 17/20\n",
            "736/736 [==============================] - 19s 26ms/step - loss: 0.4130 - categorical_accuracy: 0.8601 - val_loss: 0.6029 - val_categorical_accuracy: 0.7961\n",
            "Epoch 18/20\n",
            "736/736 [==============================] - 19s 26ms/step - loss: 0.4033 - categorical_accuracy: 0.8593 - val_loss: 0.4987 - val_categorical_accuracy: 0.8382\n",
            "Epoch 19/20\n",
            "736/736 [==============================] - 19s 26ms/step - loss: 0.3926 - categorical_accuracy: 0.8664 - val_loss: 0.5159 - val_categorical_accuracy: 0.8365\n",
            "Epoch 20/20\n",
            "736/736 [==============================] - 19s 26ms/step - loss: 0.3773 - categorical_accuracy: 0.8683 - val_loss: 0.5193 - val_categorical_accuracy: 0.8295\n"
          ],
          "name": "stdout"
        }
      ]
    },
    {
      "cell_type": "code",
      "metadata": {
        "id": "bHKCs7C-7EQi"
      },
      "source": [
        "loaded_se = keras.models.load_model(checkpoint_path_se_net)"
      ],
      "execution_count": 50,
      "outputs": []
    },
    {
      "cell_type": "code",
      "metadata": {
        "colab": {
          "base_uri": "https://localhost:8080/"
        },
        "id": "PSCLRapwkgpf",
        "outputId": "b553a7f4-5abd-46ab-fd6f-bc56ca4fa14b"
      },
      "source": [
        "loaded_se.evaluate(test_img)"
      ],
      "execution_count": 51,
      "outputs": [
        {
          "output_type": "stream",
          "text": [
            "246/246 [==============================] - 3s 12ms/step - loss: 0.4022 - categorical_accuracy: 0.8666\n"
          ],
          "name": "stdout"
        },
        {
          "output_type": "execute_result",
          "data": {
            "text/plain": [
              "[0.4021628797054291, 0.8666156530380249]"
            ]
          },
          "metadata": {
            "tags": []
          },
          "execution_count": 51
        }
      ]
    },
    {
      "cell_type": "code",
      "metadata": {
        "id": "tlYROtsC-FZg"
      },
      "source": [
        "samples, y_true = test_unibatch[0]"
      ],
      "execution_count": 52,
      "outputs": []
    },
    {
      "cell_type": "code",
      "metadata": {
        "id": "tYKnNxEz81Bk"
      },
      "source": [
        "y_pred = loaded_se.predict(samples)"
      ],
      "execution_count": 53,
      "outputs": []
    },
    {
      "cell_type": "code",
      "metadata": {
        "id": "Dy7YKi32894B"
      },
      "source": [
        "y_pred_labels = np.array([keras.backend.argmax(sample).numpy() for sample in y_pred])\n",
        "y_true_labels = np.array([keras.backend.argmax(sample).numpy() for sample in y_true])\n"
      ],
      "execution_count": 54,
      "outputs": []
    },
    {
      "cell_type": "code",
      "metadata": {
        "colab": {
          "base_uri": "https://localhost:8080/"
        },
        "id": "-9tLfd5L9g2W",
        "outputId": "a258d063-0a44-4147-bdfc-34ff98b2e987"
      },
      "source": [
        "from sklearn.metrics import classification_report\n",
        "print(classification_report(y_true_labels, y_pred_labels))"
      ],
      "execution_count": 55,
      "outputs": [
        {
          "output_type": "stream",
          "text": [
            "              precision    recall  f1-score   support\n",
            "\n",
            "           0       0.90      0.21      0.35        42\n",
            "           1       0.85      0.92      0.89       444\n",
            "           2       0.87      0.70      0.77       450\n",
            "           3       0.60      0.88      0.71       282\n",
            "           4       0.92      0.99      0.95       396\n",
            "           5       0.62      0.59      0.60       372\n",
            "           6       0.76      0.98      0.85        84\n",
            "           7       0.93      0.95      0.94       288\n",
            "           8       0.95      0.74      0.83       282\n",
            "           9       0.95      0.98      0.96       294\n",
            "          10       0.99      0.99      0.99       402\n",
            "          11       0.98      0.90      0.94       264\n",
            "          12       1.00      0.95      0.97       420\n",
            "          13       0.98      0.99      0.99       432\n",
            "          14       1.00      0.90      0.95       156\n",
            "          15       1.00      0.94      0.97       126\n",
            "          16       1.00      0.99      0.99        84\n",
            "          17       1.00      1.00      1.00       222\n",
            "          18       0.97      0.98      0.97       240\n",
            "          19       0.40      0.50      0.44        42\n",
            "          20       0.55      0.44      0.49        72\n",
            "          21       0.76      0.58      0.66        66\n",
            "          22       0.97      1.00      0.99        78\n",
            "          23       0.74      0.49      0.59       102\n",
            "          24       0.98      0.96      0.97        54\n",
            "          25       0.88      1.00      0.94       300\n",
            "          26       0.96      0.98      0.97       120\n",
            "          27       1.00      0.94      0.97        48\n",
            "          28       0.76      0.84      0.80       108\n",
            "          29       0.85      0.63      0.72        54\n",
            "          30       0.72      0.86      0.78        90\n",
            "          31       0.87      0.96      0.91       156\n",
            "          32       0.79      1.00      0.88        48\n",
            "          33       0.66      0.76      0.70       138\n",
            "          34       0.47      0.32      0.38        84\n",
            "          35       0.98      1.00      0.99       240\n",
            "          36       0.73      0.77      0.75        78\n",
            "          37       0.45      0.36      0.40        42\n",
            "          38       0.86      0.88      0.87       414\n",
            "          39       0.40      0.10      0.16        60\n",
            "          40       0.63      1.00      0.77        72\n",
            "          41       0.94      0.67      0.78        48\n",
            "          42       0.72      0.75      0.73        48\n",
            "\n",
            "    accuracy                           0.87      7842\n",
            "   macro avg       0.82      0.80      0.80      7842\n",
            "weighted avg       0.87      0.87      0.86      7842\n",
            "\n"
          ],
          "name": "stdout"
        }
      ]
    },
    {
      "cell_type": "code",
      "metadata": {
        "id": "0otUpFRjklbG",
        "colab": {
          "base_uri": "https://localhost:8080/"
        },
        "outputId": "8d7b3f74-dd61-4875-8ba8-9a18e3a346d9"
      },
      "source": [
        "se_net.evaluate(test_img)"
      ],
      "execution_count": 29,
      "outputs": [
        {
          "output_type": "stream",
          "text": [
            "246/246 [==============================] - 2s 8ms/step - loss: 0.4884 - categorical_accuracy: 0.8451\n"
          ],
          "name": "stdout"
        },
        {
          "output_type": "execute_result",
          "data": {
            "text/plain": [
              "[0.48842790722846985, 0.8450650572776794]"
            ]
          },
          "metadata": {
            "tags": []
          },
          "execution_count": 29
        }
      ]
    },
    {
      "cell_type": "code",
      "metadata": {
        "colab": {
          "base_uri": "https://localhost:8080/",
          "height": 280
        },
        "id": "BTQmAWkbhBdz",
        "outputId": "36b105c9-64b0-4867-ac02-ca55a082d09e"
      },
      "source": [
        "plt.plot(history_se.history[\"loss\"], label = \"Training loss\")\n",
        "plt.plot(history_se.history[\"val_loss\"], label = \"Validation loss\")\n",
        "plt.legend()\n",
        "plt.title(\"SE_net - Loss\")\n",
        "plt.show()"
      ],
      "execution_count": 35,
      "outputs": [
        {
          "output_type": "display_data",
          "data": {
            "image/png": "[encoded data removed]",
            "text/plain": [
              "<Figure size 432x288 with 1 Axes>"
            ]
          },
          "metadata": {
            "tags": [],
            "needs_background": "light"
          }
        }
      ]
    },
    {
      "cell_type": "code",
      "metadata": {
        "colab": {
          "base_uri": "https://localhost:8080/",
          "height": 280
        },
        "id": "d6KclXmskAlD",
        "outputId": "68020c18-89a5-48cc-c08d-1061fc495395"
      },
      "source": [
        "plt.plot(history_se.history[\"val_categorical_accuracy\"], label = \"Validation Accuracy\")\n",
        "plt.plot(history_se.history[\"categorical_accuracy\"], label = \"Training Accuracy\")\n",
        "plt.legend()\n",
        "plt.title(\"SE_net - Accuracy\")\n",
        "plt.show()"
      ],
      "execution_count": 38,
      "outputs": [
        {
          "output_type": "display_data",
          "data": {
            "image/png": "[encoded data removed]",
            "text/plain": [
              "<Figure size 432x288 with 1 Axes>"
            ]
          },
          "metadata": {
            "tags": [],
            "needs_background": "light"
          }
        }
      ]
    },
    {
      "cell_type": "code",
      "metadata": {
        "colab": {
          "base_uri": "https://localhost:8080/",
          "height": 280
        },
        "id": "xxDyd65Skh3A",
        "outputId": "0b625d9e-ccb0-4976-f6ba-ed694ed3271c"
      },
      "source": [
        "plt.plot(history_cnn.history[\"val_categorical_accuracy\"], label = \"CNN\")\n",
        "plt.plot(history_se.history[\"val_categorical_accuracy\"], label = \"SE_Net\")\n",
        "plt.legend()\n",
        "plt.title(\"SE_net vs CNN - Accuracy\")\n",
        "plt.show()"
      ],
      "execution_count": 39,
      "outputs": [
        {
          "output_type": "display_data",
          "data": {
            "image/png": "[encoded data removed]",
            "text/plain": [
              "<Figure size 432x288 with 1 Axes>"
            ]
          },
          "metadata": {
            "tags": [],
            "needs_background": "light"
          }
        }
      ]
    },
    {
      "cell_type": "code",
      "metadata": {
        "colab": {
          "base_uri": "https://localhost:8080/",
          "height": 318
        },
        "id": "-Av2z4xElc2Y",
        "outputId": "005007cd-888e-426c-e0ee-ea9b920231e1"
      },
      "source": [
        "img_batch, label_batch = test_img[2]\n",
        "img = img_batch[12]\n",
        "label = keras.backend.argmax(label_batch[12]).numpy()\n",
        "pred = loaded_se.predict(np.array([img,]))\n",
        "pred_label = keras.backend.argmax(pred[0]).numpy()\n",
        "plt.imshow(img)\n",
        "print(\"Correct Label:\", label)\n",
        "print(\"Predicted Label:\", pred_label)"
      ],
      "execution_count": 84,
      "outputs": [
        {
          "output_type": "stream",
          "text": [
            "Clipping input data to the valid range for imshow with RGB data ([0..1] for floats or [0..255] for integers).\n"
          ],
          "name": "stderr"
        },
        {
          "output_type": "stream",
          "text": [
            "Correct Label: 1\n",
            "Predicted Label: 1\n"
          ],
          "name": "stdout"
        },
        {
          "output_type": "display_data",
          "data": {
            "image/png": "[encoded data removed]",
            "text/plain": [
              "<Figure size 432x288 with 1 Axes>"
            ]
          },
          "metadata": {
            "tags": [],
            "needs_background": "light"
          }
        }
      ]
    },
    {
      "cell_type": "code",
      "metadata": {
        "colab": {
          "base_uri": "https://localhost:8080/"
        },
        "id": "DKGcWbSSYiKt",
        "outputId": "36454c7b-308b-428c-ecf7-5c70a15d1d0e"
      },
      "source": [
        "model = loaded_cnn\n",
        "model.layers[5]"
      ],
      "execution_count": 116,
      "outputs": [
        {
          "output_type": "execute_result",
          "data": {
            "text/plain": [
              "<tensorflow.python.keras.layers.pooling.MaxPooling2D at 0x7f7651212b10>"
            ]
          },
          "metadata": {
            "tags": []
          },
          "execution_count": 116
        }
      ]
    },
    {
      "cell_type": "code",
      "metadata": {
        "colab": {
          "base_uri": "https://localhost:8080/"
        },
        "id": "jyUrmcPmNf70",
        "outputId": "5be7c657-f4c2-410d-ae10-52f67822ba5f"
      },
      "source": [
        "# load the model\n",
        "model = loaded_cnn\n",
        "# redefine model to output right after the first hidden layer\n",
        "model = keras.Model(inputs=model.inputs, outputs=model.layers[6].output)\n",
        "model.summary()"
      ],
      "execution_count": 127,
      "outputs": [
        {
          "output_type": "stream",
          "text": [
            "Model: \"model_13\"\n",
            "_________________________________________________________________\n",
            "Layer (type)                 Output Shape              Param #   \n",
            "=================================================================\n",
            "input_3 (InputLayer)         [(None, 30, 30, 3)]       0         \n",
            "_________________________________________________________________\n",
            "conv2d_4 (Conv2D)            (None, 30, 30, 32)        2432      \n",
            "_________________________________________________________________\n",
            "dropout_6 (Dropout)          (None, 30, 30, 32)        0         \n",
            "_________________________________________________________________\n",
            "batch_normalization_4 (Batch (None, 30, 30, 32)        128       \n",
            "_________________________________________________________________\n",
            "activation_4 (Activation)    (None, 30, 30, 32)        0         \n",
            "_________________________________________________________________\n",
            "max_pooling2d_4 (MaxPooling2 (None, 14, 14, 32)        0         \n",
            "_________________________________________________________________\n",
            "conv2d_5 (Conv2D)            (None, 14, 14, 64)        18496     \n",
            "=================================================================\n",
            "Total params: 21,056\n",
            "Trainable params: 20,992\n",
            "Non-trainable params: 64\n",
            "_________________________________________________________________\n"
          ],
          "name": "stdout"
        }
      ]
    },
    {
      "cell_type": "code",
      "metadata": {
        "colab": {
          "base_uri": "https://localhost:8080/",
          "height": 289
        },
        "id": "eRFi2YkjQtUB",
        "outputId": "cd8a3800-50b6-4ab3-8506-5bead653c32f"
      },
      "source": [
        "feature_maps = model.predict(np.array([img,]))\n",
        "# plot the output from each block\n",
        "square = 4\n",
        "ix = 1\n",
        "for _ in range(square):\n",
        "\tfor _ in range(square):\n",
        "\t\t# specify subplot and turn of axis\n",
        "\t\tax = plt.subplot(square, square, ix)\n",
        "\t\tax.set_xticks([])\n",
        "\t\tax.set_yticks([])\n",
        "\t\t# plot filter channel in grayscale\n",
        "\t\tplt.imshow(feature_maps[0, :, :, ix-1], cmap='gray')\n",
        "\t\tix += 1\n",
        "# show the figure\n",
        "plt.show()"
      ],
      "execution_count": 128,
      "outputs": [
        {
          "output_type": "stream",
          "text": [
            "WARNING:tensorflow:10 out of the last 16 calls to <function Model.make_predict_function.<locals>.predict_function at 0x7f764e71c680> triggered tf.function retracing. Tracing is expensive and the excessive number of tracings could be due to (1) creating @tf.function repeatedly in a loop, (2) passing tensors with different shapes, (3) passing Python objects instead of tensors. For (1), please define your @tf.function outside of the loop. For (2), @tf.function has experimental_relax_shapes=True option that relaxes argument shapes that can avoid unnecessary retracing. For (3), please refer to https://www.tensorflow.org/guide/function#controlling_retracing and https://www.tensorflow.org/api_docs/python/tf/function for  more details.\n"
          ],
          "name": "stdout"
        },
        {
          "output_type": "display_data",
          "data": {
            "image/png": "[encoded data removed]",
            "text/plain": [
              "<Figure size 432x288 with 16 Axes>"
            ]
          },
          "metadata": {
            "tags": []
          }
        }
      ]
    },
    {
      "cell_type": "code",
      "metadata": {
        "id": "lrEiNeBOXIzy"
      },
      "source": [
        ""
      ],
      "execution_count": 113,
      "outputs": []
    }
  ]
}